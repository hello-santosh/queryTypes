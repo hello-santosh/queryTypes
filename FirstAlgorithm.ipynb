{
 "cells": [
  {
   "cell_type": "code",
   "execution_count": 3,
   "id": "67bce9b0",
   "metadata": {},
   "outputs": [
    {
     "name": "stdout",
     "output_type": "stream",
     "text": [
      "col:  pnumber, dnum, lname, address, bdate\n",
      "table:  project, department, employee\n"
     ]
    }
   ],
   "source": [
    "# Get query types from simple select queries\n",
    "demQuery = 'SELECT Pnumber, Dnum, Lname, Address, Bdate FROM PROJECT, DEPARTMENT, EMPLOYEE'\n",
    "\n",
    "# function to get column and table from a select query\n",
    "def getColumnAndTable(query):\n",
    "    query = query.lower()\n",
    "    afterSelect = query.split(\"select\",1)[1]\n",
    "    splitFrom = [word.strip() for word in afterSelect.split(\"from\",1)]\n",
    "    col = splitFrom[0]\n",
    "    table = splitFrom[1]\n",
    "    print('col: ',col)\n",
    "    print('table: ',table)   \n",
    "    \n",
    "getColumnAndTable(demQuery)"
   ]
  },
  {
   "cell_type": "code",
   "execution_count": 1,
   "id": "ded14244",
   "metadata": {},
   "outputs": [
    {
     "name": "stdout",
     "output_type": "stream",
     "text": [
      "col:  student.stu_id, student.stu_name, student.branch, subjects, max_credits\n",
      "table:  student, branch_details, credit_details\n",
      "Cols and table association:\n",
      "Table: student contains column: stu_id\n",
      "Table: student contains column: stu_name\n",
      "Table: student contains column: branch\n"
     ]
    }
   ],
   "source": [
    "demQuery = 'SELECT student.stu_id, student.stu_name, student.branch, subjects, max_credits FROM student, branch_details, credit_details '\n",
    "\n",
    "# function to get column and table with assiciation if available.\n",
    "def getColumnAndTableAssociation(query):\n",
    "    query = query.lower()\n",
    "    afterSelect = query.split(\"select\",1)[1]\n",
    "    splitFrom = [word.strip() for word in afterSelect.split(\"from\",1)]\n",
    "    col = splitFrom[0]\n",
    "    table = splitFrom[1]\n",
    "    print('col: ',col)\n",
    "    print('table: ',table)  \n",
    "    splittedCols = [word.strip() for word in col.split(\",\")]\n",
    "    print('Cols and table association:')\n",
    "    for cols in splittedCols:\n",
    "        if \".\" in cols:\n",
    "            splittedColsAndTable = [word.strip() for word in cols.split(\".\")]\n",
    "            print('Table:',splittedColsAndTable[0], 'contains column:',splittedColsAndTable[1])\n",
    "getColumnAndTableAssociation(demQuery)"
   ]
  },
  {
   "cell_type": "code",
   "execution_count": 30,
   "id": "e9d0a876",
   "metadata": {},
   "outputs": [
    {
     "name": "stdout",
     "output_type": "stream",
     "text": [
      "table:  employee\n",
      "Functions on columns: \n",
      "salary ->  sum\n",
      "salary ->  max\n",
      "raise ->  min\n",
      "bonus ->  avg\n",
      "cols:  ['salary', 'raise', 'bonus']\n"
     ]
    }
   ],
   "source": [
    "demQuery = 'SELECT SUM (Salary), MAX (Salary), MIN (Raise), AVG (Bonus) FROM EMPLOYEE'\n",
    "# edgeCaseQuery = 'SELECT COUNT(DISTINCT Country) FROM Customers'\n",
    "\n",
    "# function to get column and table with aggregation functions on columns.\n",
    "def getColumnAndTableWithFunction(query):\n",
    "    query = query.lower()\n",
    "    afterSelect = query.split(\"select\",1)[1]\n",
    "    splitFrom = [word.strip() for word in afterSelect.split(\"from\",1)]\n",
    "    col = splitFrom[0]\n",
    "    table = splitFrom[1]\n",
    "    # print('col: ',col)\n",
    "    print('table: ',table)  \n",
    "    splittedCols = [word.strip() for word in col.split(\",\")]\n",
    "    functionList = ['all','distinct','count','sum','max','min','avg']\n",
    "    print('Functions on columns: ')\n",
    "    cleanColList = []\n",
    "    for cols in splittedCols:\n",
    "        for funcList in functionList:\n",
    "            if funcList in cols:\n",
    "                cleanCol = cols.replace(funcList,\"\").replace(\"(\",\"\").replace(\")\",\"\").strip()\n",
    "                if(cleanCol not in cleanColList):\n",
    "                    cleanColList.append(cleanCol)\n",
    "                print (cleanCol, '-> ',funcList)\n",
    "    print('cols: ',cleanColList)\n",
    "\n",
    "getColumnAndTableWithFunction(demQuery)"
   ]
  }
 ],
 "metadata": {
  "kernelspec": {
   "display_name": "Python 3 (ipykernel)",
   "language": "python",
   "name": "python3"
  },
  "language_info": {
   "codemirror_mode": {
    "name": "ipython",
    "version": 3
   },
   "file_extension": ".py",
   "mimetype": "text/x-python",
   "name": "python",
   "nbconvert_exporter": "python",
   "pygments_lexer": "ipython3",
   "version": "3.9.13"
  }
 },
 "nbformat": 4,
 "nbformat_minor": 5
}
